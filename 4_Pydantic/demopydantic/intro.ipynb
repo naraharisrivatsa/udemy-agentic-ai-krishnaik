{
 "cells": [
  {
   "cell_type": "markdown",
   "id": "0202c215",
   "metadata": {},
   "source": [
    "## Pydantic Basics: Creating and Using Models"
   ]
  },
  {
   "cell_type": "markdown",
   "id": "aace7775",
   "metadata": {},
   "source": [
    "### 1. Model with all Mandatory fields"
   ]
  },
  {
   "cell_type": "code",
   "execution_count": 1,
   "id": "a257fe75",
   "metadata": {},
   "outputs": [],
   "source": [
    "from pydantic import BaseModel"
   ]
  },
  {
   "cell_type": "code",
   "execution_count": 2,
   "id": "c95d7197",
   "metadata": {},
   "outputs": [],
   "source": [
    "class Person(BaseModel):\n",
    "    name: str\n",
    "    age: int\n",
    "    city: str"
   ]
  },
  {
   "cell_type": "code",
   "execution_count": 3,
   "id": "b235df8c",
   "metadata": {},
   "outputs": [
    {
     "name": "stdout",
     "output_type": "stream",
     "text": [
      "name='John Doe' age=30 city='New York'\n",
      "{'name': 'John Doe', 'age': 30, 'city': 'New York'}\n"
     ]
    }
   ],
   "source": [
    "person_obj = Person(name=\"John Doe\", age=30, city=\"New York\")\n",
    "print(person_obj)\n",
    "print(person_obj.model_dump())"
   ]
  },
  {
   "cell_type": "code",
   "execution_count": 4,
   "id": "aca0ee02",
   "metadata": {},
   "outputs": [
    {
     "data": {
      "text/plain": [
       "__main__.Person"
      ]
     },
     "execution_count": 4,
     "metadata": {},
     "output_type": "execute_result"
    }
   ],
   "source": [
    "type(person_obj)"
   ]
  },
  {
   "cell_type": "code",
   "execution_count": 5,
   "id": "903a02b2",
   "metadata": {},
   "outputs": [],
   "source": [
    "from dataclasses import dataclass\n",
    "\n",
    "@dataclass\n",
    "class PersonData:\n",
    "    name: str\n",
    "    age: int\n",
    "    city: str"
   ]
  },
  {
   "cell_type": "code",
   "execution_count": 6,
   "id": "a15d399f",
   "metadata": {},
   "outputs": [
    {
     "name": "stdout",
     "output_type": "stream",
     "text": [
      "PersonData(name='Jane Doe', age=25, city='Los Angeles')\n",
      "{'name': 'Jane Doe', 'age': 25, 'city': 'Los Angeles'}\n"
     ]
    }
   ],
   "source": [
    "person_data_obj1 = PersonData(name=\"Jane Doe\", age=25, city=\"Los Angeles\")\n",
    "print(person_data_obj1)\n",
    "print(person_data_obj1.__dict__)"
   ]
  },
  {
   "cell_type": "code",
   "execution_count": 7,
   "id": "cf9f8ff7",
   "metadata": {},
   "outputs": [
    {
     "name": "stdout",
     "output_type": "stream",
     "text": [
      "PersonData(name='Jane Doe', age=25, city=45)\n",
      "{'name': 'Jane Doe', 'age': 25, 'city': 45}\n",
      "<class 'int'>\n"
     ]
    }
   ],
   "source": [
    "person_data_obj2 = PersonData(name=\"Jane Doe\", age=25, city=45)\n",
    "print(person_data_obj2)\n",
    "print(person_data_obj2.__dict__)\n",
    "print(type(person_data_obj2.city))"
   ]
  },
  {
   "cell_type": "markdown",
   "id": "e590e875",
   "metadata": {},
   "source": [
    "> NOTE: While the dataclass doesn't validate the data type of the parameters and accepts parameters in wider sense, Pydantic validates data type of all the parameters and accepts parameters only in strict sense."
   ]
  },
  {
   "cell_type": "markdown",
   "id": "8c79dd66",
   "metadata": {},
   "source": [
    "### 2. Model with some optional fields"
   ]
  },
  {
   "cell_type": "code",
   "execution_count": 8,
   "id": "cfe87e6d",
   "metadata": {},
   "outputs": [],
   "source": [
    "from typing import Optional"
   ]
  },
  {
   "cell_type": "code",
   "execution_count": 9,
   "id": "bb99fc4d",
   "metadata": {},
   "outputs": [],
   "source": [
    "class Employee(BaseModel):\n",
    "    id: int\n",
    "    name: str\n",
    "    department: str = \"General\"\n",
    "    salary: Optional[float] = None\n",
    "    is_active: Optional[bool] = True"
   ]
  },
  {
   "cell_type": "code",
   "execution_count": 10,
   "id": "80e88620",
   "metadata": {},
   "outputs": [
    {
     "name": "stdout",
     "output_type": "stream",
     "text": [
      "Employee Object:\n",
      " id=1 name='Alice Smith' department='IT' salary=None is_active=True\n",
      "Employee dictionary:\n",
      " {'id': 1, 'name': 'Alice Smith', 'department': 'IT', 'salary': None, 'is_active': True}\n",
      "Employee JSON:\n",
      " {\"id\":1,\"name\":\"Alice Smith\",\"department\":\"IT\",\"salary\":null,\"is_active\":true}\n",
      "Employee JSON with formatting:\n",
      " {\n",
      "  \"id\": 1,\n",
      "  \"name\": \"Alice Smith\",\n",
      "  \"department\": \"IT\",\n",
      "  \"salary\": null,\n",
      "  \"is_active\": true\n",
      "}\n"
     ]
    }
   ],
   "source": [
    "\n",
    "employee_obj = Employee(id=1, name=\"Alice Smith\", department=\"IT\")\n",
    "print(\"Employee Object:\\n\", employee_obj)\n",
    "print(\"Employee dictionary:\\n\", employee_obj.model_dump())\n",
    "print(\"Employee JSON:\\n\", employee_obj.model_dump_json())\n",
    "print(\"Employee JSON with formatting:\\n\", employee_obj.model_dump_json(indent=2))"
   ]
  },
  {
   "cell_type": "code",
   "execution_count": 11,
   "id": "abf35e4c",
   "metadata": {},
   "outputs": [
    {
     "name": "stdout",
     "output_type": "stream",
     "text": [
      "Employee Object:\n",
      " id=2 name='Jane Flower' department='HR' salary=60000.0 is_active=False\n",
      "Employee dictionary:\n",
      " {'id': 2, 'name': 'Jane Flower', 'department': 'HR', 'salary': 60000.0, 'is_active': False}\n",
      "Employee JSON:\n",
      " {\"id\":2,\"name\":\"Jane Flower\",\"department\":\"HR\",\"salary\":60000.0,\"is_active\":false}\n",
      "Employee JSON with formatting:\n",
      " {\n",
      "  \"id\": 2,\n",
      "  \"name\": \"Jane Flower\",\n",
      "  \"department\": \"HR\",\n",
      "  \"salary\": 60000.0,\n",
      "  \"is_active\": false\n",
      "}\n"
     ]
    }
   ],
   "source": [
    "\n",
    "employee_obj2 = Employee(id=\"2\", name=\"Jane Flower\", department=\"HR\", salary=60000, is_active=False)\n",
    "print(\"Employee Object:\\n\", employee_obj2)\n",
    "print(\"Employee dictionary:\\n\", employee_obj2.model_dump())\n",
    "print(\"Employee JSON:\\n\", employee_obj2.model_dump_json())\n",
    "print(\"Employee JSON with formatting:\\n\", employee_obj2.model_dump_json(indent=2))"
   ]
  },
  {
   "cell_type": "markdown",
   "id": "0a9ef8b7",
   "metadata": {},
   "source": [
    "> NOTE: Pydantic does automatic type casting according to standard type casting rules for both mandatory and optional fields. In the above example, we see two such scenarios:\n",
    "1. Type casting of **id** field from string to integer\n",
    "2. Type casting the **salary** field from integer to float"
   ]
  },
  {
   "cell_type": "markdown",
   "id": "30d0b1b7",
   "metadata": {},
   "source": [
    "### 3. Model with advance data fields"
   ]
  },
  {
   "cell_type": "code",
   "execution_count": 12,
   "id": "99e2934b",
   "metadata": {},
   "outputs": [],
   "source": [
    "from typing import List"
   ]
  },
  {
   "cell_type": "code",
   "execution_count": 13,
   "id": "3a6220f8",
   "metadata": {},
   "outputs": [],
   "source": [
    "class Classroom(BaseModel):\n",
    "    name: str\n",
    "    students: List[str]\n",
    "    capacity: int"
   ]
  },
  {
   "cell_type": "code",
   "execution_count": 14,
   "id": "009f67fb",
   "metadata": {},
   "outputs": [
    {
     "name": "stdout",
     "output_type": "stream",
     "text": [
      "Classroom Object:\n",
      " name='Math 101' students=['Alice', 'Bob', 'Charlie'] capacity=30\n",
      "Classroom dictionary:\n",
      " {'name': 'Math 101', 'students': ['Alice', 'Bob', 'Charlie'], 'capacity': 30}\n",
      "Classroom JSON:\n",
      " {\"name\":\"Math 101\",\"students\":[\"Alice\",\"Bob\",\"Charlie\"],\"capacity\":30}\n",
      "Classroom JSON with formatting:\n",
      " {\n",
      "  \"name\": \"Math 101\",\n",
      "  \"students\": [\n",
      "    \"Alice\",\n",
      "    \"Bob\",\n",
      "    \"Charlie\"\n",
      "  ],\n",
      "  \"capacity\": 30\n",
      "}\n"
     ]
    }
   ],
   "source": [
    "classroom_obj = Classroom(name=\"Math 101\", students=[\"Alice\", \"Bob\", \"Charlie\"], capacity=30)\n",
    "print(\"Classroom Object:\\n\", classroom_obj)\n",
    "print(\"Classroom dictionary:\\n\", classroom_obj.model_dump())\n",
    "print(\"Classroom JSON:\\n\", classroom_obj.model_dump_json())\n",
    "print(\"Classroom JSON with formatting:\\n\", classroom_obj.model_dump_json(indent=2))"
   ]
  },
  {
   "cell_type": "code",
   "execution_count": 15,
   "id": "99e7c864",
   "metadata": {},
   "outputs": [
    {
     "name": "stdout",
     "output_type": "stream",
     "text": [
      "Classroom Object:\n",
      " name='Law 101' students=['Harvey', 'Jessica', 'Mike'] capacity=10\n",
      "Classroom dictionary:\n",
      " {'name': 'Law 101', 'students': ['Harvey', 'Jessica', 'Mike'], 'capacity': 10}\n",
      "Classroom JSON:\n",
      " {\"name\":\"Law 101\",\"students\":[\"Harvey\",\"Jessica\",\"Mike\"],\"capacity\":10}\n",
      "Classroom JSON with formatting:\n",
      " {\n",
      "  \"name\": \"Law 101\",\n",
      "  \"students\": [\n",
      "    \"Harvey\",\n",
      "    \"Jessica\",\n",
      "    \"Mike\"\n",
      "  ],\n",
      "  \"capacity\": 10\n",
      "}\n"
     ]
    }
   ],
   "source": [
    "classroom_obj2 = Classroom(name=\"Law 101\", students=(\"Harvey\", \"Jessica\", \"Mike\"), capacity=10)\n",
    "print(\"Classroom Object:\\n\", classroom_obj2)\n",
    "print(\"Classroom dictionary:\\n\", classroom_obj2.model_dump())\n",
    "print(\"Classroom JSON:\\n\", classroom_obj2.model_dump_json())\n",
    "print(\"Classroom JSON with formatting:\\n\", classroom_obj2.model_dump_json(indent=2))"
   ]
  },
  {
   "cell_type": "markdown",
   "id": "ca960628",
   "metadata": {},
   "source": [
    "> NOTE: Pydantic does automatic type casting according to standard type casting rules for complex data types also. In the above example, it type casted the tuple into a list."
   ]
  },
  {
   "cell_type": "code",
   "execution_count": 16,
   "id": "75409acf",
   "metadata": {},
   "outputs": [
    {
     "name": "stdout",
     "output_type": "stream",
     "text": [
      "Error: 1 validation error for Classroom\n",
      "capacity\n",
      "  Input should be a valid integer, unable to parse string as an integer [type=int_parsing, input_value='thirty', input_type=str]\n",
      "    For further information visit https://errors.pydantic.dev/2.11/v/int_parsing\n"
     ]
    }
   ],
   "source": [
    "try:\n",
    "    invalid_classroom_obj = Classroom(name=\"History 101\", students=[\"Alice\", \"Bob\"], capacity=\"thirty\")\n",
    "except Exception as e:\n",
    "    print(\"Error:\", e)"
   ]
  },
  {
   "cell_type": "markdown",
   "id": "39caa4ab",
   "metadata": {},
   "source": [
    "### 4. Nested Models"
   ]
  },
  {
   "cell_type": "code",
   "execution_count": 17,
   "id": "ebf953c0",
   "metadata": {},
   "outputs": [],
   "source": [
    "class Address(BaseModel):\n",
    "    street: str\n",
    "    city: str\n",
    "    zip_code: str\n",
    "\n",
    "class Customer(BaseModel):\n",
    "    customer_id: int\n",
    "    name: str\n",
    "    address: Address"
   ]
  },
  {
   "cell_type": "code",
   "execution_count": 18,
   "id": "2f2a2f76",
   "metadata": {},
   "outputs": [
    {
     "name": "stdout",
     "output_type": "stream",
     "text": [
      "Customer Object:\n",
      " customer_id=1 name='John Doe' address=Address(street='123 Main St', city='Springfield', zip_code='12345')\n",
      "Customer dictionary:\n",
      " {'customer_id': 1, 'name': 'John Doe', 'address': {'street': '123 Main St', 'city': 'Springfield', 'zip_code': '12345'}}\n",
      "Customer JSON:\n",
      " {\"customer_id\":1,\"name\":\"John Doe\",\"address\":{\"street\":\"123 Main St\",\"city\":\"Springfield\",\"zip_code\":\"12345\"}}\n",
      "Customer JSON with formatting:\n",
      " {\n",
      "  \"customer_id\": 1,\n",
      "  \"name\": \"John Doe\",\n",
      "  \"address\": {\n",
      "    \"street\": \"123 Main St\",\n",
      "    \"city\": \"Springfield\",\n",
      "    \"zip_code\": \"12345\"\n",
      "  }\n",
      "}\n"
     ]
    }
   ],
   "source": [
    "customer_obj = Customer(\n",
    "    customer_id=1,\n",
    "    name=\"John Doe\",\n",
    "    address=Address(street=\"123 Main St\", city=\"Springfield\", zip_code=\"12345\")\n",
    ")\n",
    "print(\"Customer Object:\\n\", customer_obj)\n",
    "print(\"Customer dictionary:\\n\", customer_obj.model_dump())\n",
    "print(\"Customer JSON:\\n\", customer_obj.model_dump_json())\n",
    "print(\"Customer JSON with formatting:\\n\", customer_obj.model_dump_json(indent=2))"
   ]
  },
  {
   "cell_type": "markdown",
   "id": "675a9331",
   "metadata": {},
   "source": [
    "### 5. Pydantic Fields: Customization and Constraints"
   ]
  },
  {
   "cell_type": "code",
   "execution_count": 19,
   "id": "f3be5050",
   "metadata": {},
   "outputs": [],
   "source": [
    "from pydantic import Field"
   ]
  },
  {
   "cell_type": "code",
   "execution_count": 20,
   "id": "1bd22b22",
   "metadata": {},
   "outputs": [],
   "source": [
    "class Item(BaseModel):\n",
    "    name: str = Field(min_length=2, max_length=50, description=\"Name of the item\")\n",
    "    description: str = Field(default=\"No description provided\", max_length=100)\n",
    "    price: float = Field(gt=0, description=\"Price must be greater than zero\")\n",
    "    tags: List[str] = Field(default_factory=list, description=\"List of item tags\")\n"
   ]
  },
  {
   "cell_type": "code",
   "execution_count": 21,
   "id": "8760f120",
   "metadata": {},
   "outputs": [
    {
     "name": "stdout",
     "output_type": "stream",
     "text": [
      "Item Object:\n",
      " name='Widget' description='No description provided' price=19.99 tags=['tool', 'gadget']\n",
      "Item dictionary:\n",
      " {'name': 'Widget', 'description': 'No description provided', 'price': 19.99, 'tags': ['tool', 'gadget']}\n",
      "Item JSON:\n",
      " {\"name\":\"Widget\",\"description\":\"No description provided\",\"price\":19.99,\"tags\":[\"tool\",\"gadget\"]}\n",
      "Item JSON with formatting:\n",
      " {\n",
      "  \"name\": \"Widget\",\n",
      "  \"description\": \"No description provided\",\n",
      "  \"price\": 19.99,\n",
      "  \"tags\": [\n",
      "    \"tool\",\n",
      "    \"gadget\"\n",
      "  ]\n",
      "}\n"
     ]
    }
   ],
   "source": [
    "item_obj = Item(name=\"Widget\", price=19.99, tags=[\"tool\", \"gadget\"])\n",
    "print(\"Item Object:\\n\", item_obj)\n",
    "print(\"Item dictionary:\\n\", item_obj.model_dump())\n",
    "print(\"Item JSON:\\n\", item_obj.model_dump_json())\n",
    "print(\"Item JSON with formatting:\\n\", item_obj.model_dump_json(indent=2))"
   ]
  },
  {
   "cell_type": "code",
   "execution_count": 22,
   "id": "5ca8ce91",
   "metadata": {},
   "outputs": [],
   "source": [
    "class User(BaseModel):\n",
    "    username: str = Field(min_length=3, max_length=20, description=\"Username must be between 3 and 20 characters\")\n",
    "    email: str = Field(default_factory=lambda: \"user@example.com\",pattern=r'^[\\w\\.-]+@[\\w\\.-]+\\.\\w+$', description=\"Must be a valid email address\")\n",
    "    age: Optional[int] = Field(default=18, ge=0, le=120, description=\"Age must be between 0 and 12; Default is 18.\")"
   ]
  },
  {
   "cell_type": "code",
   "execution_count": 23,
   "id": "a9a2baa1",
   "metadata": {},
   "outputs": [
    {
     "name": "stdout",
     "output_type": "stream",
     "text": [
      "User Object 1:\n",
      " username='alice' email='user@example.com' age=18\n",
      "User dictionary 1:\n",
      " {'username': 'alice', 'email': 'user@example.com', 'age': 18}\n",
      "User JSON 1:\n",
      " {\"username\":\"alice\",\"email\":\"user@example.com\",\"age\":18}\n",
      "User JSON with formatting 1:\n",
      " {\n",
      "  \"username\": \"alice\",\n",
      "  \"email\": \"user@example.com\",\n",
      "  \"age\": 18\n",
      "}\n"
     ]
    }
   ],
   "source": [
    "user_obj1 = User(username=\"alice\")\n",
    "print(\"User Object 1:\\n\", user_obj1)\n",
    "print(\"User dictionary 1:\\n\", user_obj1.model_dump())\n",
    "print(\"User JSON 1:\\n\", user_obj1.model_dump_json())\n",
    "print(\"User JSON with formatting 1:\\n\", user_obj1.model_dump_json(indent=2))"
   ]
  },
  {
   "cell_type": "code",
   "execution_count": 24,
   "id": "116882a6",
   "metadata": {},
   "outputs": [
    {
     "name": "stdout",
     "output_type": "stream",
     "text": [
      "User Object 2:\n",
      " username='bob' email='bob@domain.com' age=25\n",
      "User dictionary 2:\n",
      " {'username': 'bob', 'email': 'bob@domain.com', 'age': 25}\n",
      "User JSON 2:\n",
      " {\"username\":\"bob\",\"email\":\"bob@domain.com\",\"age\":25}\n",
      "User JSON with formatting 2:\n",
      " {\n",
      "  \"username\": \"bob\",\n",
      "  \"email\": \"bob@domain.com\",\n",
      "  \"age\": 25\n",
      "}\n"
     ]
    }
   ],
   "source": [
    "user_obj2 = User(username=\"bob\", age=25, email=\"bob@domain.com\")\n",
    "print(\"User Object 2:\\n\", user_obj2)\n",
    "print(\"User dictionary 2:\\n\", user_obj2.model_dump())\n",
    "print(\"User JSON 2:\\n\", user_obj2.model_dump_json())\n",
    "print(\"User JSON with formatting 2:\\n\", user_obj2.model_dump_json(indent=2))"
   ]
  }
 ],
 "metadata": {
  "kernelspec": {
   "display_name": "pydantic_env (3.12.11)",
   "language": "python",
   "name": "python3"
  },
  "language_info": {
   "codemirror_mode": {
    "name": "ipython",
    "version": 3
   },
   "file_extension": ".py",
   "mimetype": "text/x-python",
   "name": "python",
   "nbconvert_exporter": "python",
   "pygments_lexer": "ipython3",
   "version": "3.12.11"
  }
 },
 "nbformat": 4,
 "nbformat_minor": 5
}
